{
 "cells": [
  {
   "cell_type": "markdown",
   "id": "25702683",
   "metadata": {},
   "source": [
    "**У всіх завданнях не використовувати інструкцію \"IF - ELIF - ELSE\"**"
   ]
  },
  {
   "cell_type": "markdown",
   "id": "6052f34d",
   "metadata": {},
   "source": [
    "# Завдання 1\n",
    "    Задано деякі числа A та B (int):\n",
    "        - Перевірити умову: \"Число A є додатнє \n",
    "        - Перевірити умову: \"Число A парне\"\n",
    "        - Перевірити умову: \"Число A кратне 13\"\n",
    "        - Перевірити умову: \"Кожне із чисел A та B - парне\"\n",
    "        - Перевірити умову: \"Кожне із чисел A та B мають однакову парність \""
   ]
  },
  {
   "cell_type": "code",
   "execution_count": 5,
   "id": "c5a8ba18",
   "metadata": {},
   "outputs": [
    {
     "name": "stdout",
     "output_type": "stream",
     "text": [
      "Cond 1 - True\n",
      "Cond 2 - True\n",
      "Cond 3 - True\n",
      "Cond 4 - False\n",
      "Cond 5 - False\n"
     ]
    }
   ],
   "source": [
    "a = 26\n",
    "b = -83\n",
    "\n",
    "print(\"Cond 1 -\", a > 0)\n",
    "print(\"Cond 2 -\", a % 2 == 0)\n",
    "print(\"Cond 3 -\", a % 13 == 0)\n",
    "print(\"Cond 4 -\", a % 2 == 0 and b % 2 == 0)\n",
    "print(\"Cond 5 -\", a % 2 == b % 2)"
   ]
  },
  {
   "cell_type": "markdown",
   "id": "002d5873",
   "metadata": {},
   "source": [
    "# Завдання 2\n",
    "    Задано деякий пароль Pass (str). Перевірити чи пароль \"сильний\" \n",
    "    (пароль будемо вважати \"сильним\", якщо він складається з 8 символів (або більше) та містить символ @ або # )\n",
    "    Програма повертає True або False"
   ]
  },
  {
   "cell_type": "code",
   "execution_count": 15,
   "id": "d7ec3e77",
   "metadata": {},
   "outputs": [
    {
     "name": "stdout",
     "output_type": "stream",
     "text": [
      "Введіть пароль: ASkjdsfkd#\n"
     ]
    },
    {
     "data": {
      "text/plain": [
       "True"
      ]
     },
     "execution_count": 15,
     "metadata": {},
     "output_type": "execute_result"
    }
   ],
   "source": [
    "pas = input(\"Введіть пароль: \")\n",
    "l = [\"@\", \"#\"]\n",
    "a = 0\n",
    "\n",
    "for i in pas:\n",
    "    if i in l:\n",
    "        a = 1;\n",
    "len(pas) >= 8 and a == 1"
   ]
  },
  {
   "cell_type": "markdown",
   "id": "ee114cd4",
   "metadata": {},
   "source": [
    "# Завдання 3\n",
    "    Дано деякий символ Char. Вивести символи, що ідуть перед та після символу Char в кодовій таблиці ASCII"
   ]
  },
  {
   "cell_type": "code",
   "execution_count": 27,
   "id": "9e0d5d1b",
   "metadata": {},
   "outputs": [
    {
     "name": "stdout",
     "output_type": "stream",
     "text": [
      "Введіть символ: g\n",
      "f\n",
      "h\n"
     ]
    }
   ],
   "source": [
    "ch = input(\"Введіть символ: \")\n",
    "\n",
    "print(chr(ord(ch)-1))\n",
    "print(chr(ord(ch)+1))"
   ]
  },
  {
   "cell_type": "markdown",
   "id": "81481ff6",
   "metadata": {},
   "source": [
    "# Завдання 4\n",
    "    Дана стрічка, що складається із двох слів розділених пробілом.\n",
    "    Слова та порядок букв в словах поміняйте місцями.\n",
    "    (Наприклад, \"One Two\" --> \"owT enO\")"
   ]
  },
  {
   "cell_type": "code",
   "execution_count": null,
   "id": "4aa9c58b",
   "metadata": {},
   "outputs": [],
   "source": [
    "string = input(\"Введіть два слова через пробіл: \")\n",
    "\n",
    "print(string.split()[1].reverse(), string.split()[0].reverse())"
   ]
  },
  {
   "cell_type": "code",
   "execution_count": null,
   "id": "db29827e",
   "metadata": {},
   "outputs": [],
   "source": []
  }
 ],
 "metadata": {
  "kernelspec": {
   "display_name": "Python 3 (ipykernel)",
   "language": "python",
   "name": "python3"
  },
  "language_info": {
   "codemirror_mode": {
    "name": "ipython",
    "version": 3
   },
   "file_extension": ".py",
   "mimetype": "text/x-python",
   "name": "python",
   "nbconvert_exporter": "python",
   "pygments_lexer": "ipython3",
   "version": "3.9.13"
  }
 },
 "nbformat": 4,
 "nbformat_minor": 5
}
