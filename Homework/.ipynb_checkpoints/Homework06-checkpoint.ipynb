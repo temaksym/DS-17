{
 "cells": [
  {
   "cell_type": "markdown",
   "id": "7b1addbb",
   "metadata": {},
   "source": [
    "**Завантажте файл \"Homework-06-base.txt\" із мого репозиторію.  \n",
    "У файлі мітиться інформація про товарні позиції деякого інтернет-магазину, а саме:**  \n",
    "- Ариткул - унікальний номер товарної позиції  \n",
    "- Найменування - найменування товару  \n",
    "- Наявність - чи є товарна позиція в даний момент  \n",
    "- Ціна - вартість товарної позиції  "
   ]
  },
  {
   "cell_type": "markdown",
   "id": "a5bda346",
   "metadata": {},
   "source": [
    "# Завдання 1\n",
    "Вам потрібно отримати таку інформацію:\n",
    "- кількість товарних позицій у файлі\n",
    "- кількість товарних позицій, що в наявності\n",
    "- ціна та назва найдорожчої товарної позиції "
   ]
  },
  {
   "cell_type": "code",
   "execution_count": 35,
   "id": "6eaaeacf",
   "metadata": {
    "scrolled": false
   },
   "outputs": [],
   "source": [
    "# Конвертація текстового файлу в словник\n",
    "f = open(\"Homework-06-base.txt\", \"r\", encoding=\"utf8\")\n",
    "dic = {}\n",
    "\n",
    "for i in f:\n",
    "    dic[i.split(\"|\")[0]] = {\"Назва\":i.split(\"|\")[1], \"Наявність\":i.split(\"|\")[2], \"Ціна\":i.split(\"|\")[3]}\n",
    "f.close()"
   ]
  },
  {
   "cell_type": "code",
   "execution_count": 50,
   "id": "4b373b0e",
   "metadata": {
    "scrolled": true
   },
   "outputs": [],
   "source": [
    "# Конвертація ціни в числове значення\n",
    "\n",
    "for key, value in dic.items():\n",
    "    try:\n",
    "        value[\"Ціна\"] = int(value[\"Ціна\"].split()[0])\n",
    "    except:\n",
    "        pass\n",
    "\n",
    "del dic[\"Артикул\"]"
   ]
  },
  {
   "cell_type": "code",
   "execution_count": 52,
   "id": "d7d705f3",
   "metadata": {},
   "outputs": [
    {
     "name": "stdout",
     "output_type": "stream",
     "text": [
      "Кількість позицій у файлі - 425\n",
      "Кількість товарів у наявності - 353\n",
      "Найдорожчий товар 'Масло Liqui Moly TOP TEC 4600 5W-30 5л' - 1623\n"
     ]
    }
   ],
   "source": [
    "print(f\"Кількість позицій у файлі - {len(dic)-1}\")\n",
    "\n",
    "su = 0\n",
    "for key, value in dic.items():\n",
    "    if value[\"Наявність\"] == \"В наличии\":\n",
    "        su += 1\n",
    "print(f\"Кількість товарів у наявності - {su}\")\n",
    "\n",
    "ma = 0\n",
    "for key, value in dic.items():\n",
    "    if value[\"Ціна\"] > ma:\n",
    "        ma = value[\"Ціна\"]\n",
    "        maName = value[\"Назва\"]\n",
    "print(f\"Найдорожчий товар '{maName}' - {ma}\")"
   ]
  },
  {
   "cell_type": "markdown",
   "id": "f0586d37",
   "metadata": {},
   "source": [
    "# Завдання 2\n",
    "\tІнформацію із файлу запишіть у словник, де ключем буде артикул, а значення для ключа - список, що містить три елементи: Найменування, Наявність, Ціна\n",
    "\tДаний словник серіалізуйте за допомогою бібліотеки:\n",
    "\t\t- pickle\n",
    "\t\t- json\n",
    "\tЗбережіть ці файли."
   ]
  },
  {
   "cell_type": "code",
   "execution_count": 67,
   "id": "40f95235",
   "metadata": {},
   "outputs": [],
   "source": [
    "import pickle\n",
    "import json\n",
    "\n",
    "jdic = json.dumps(dic)\n",
    "\n",
    "with open('Homework06_1.pickle', 'wb') as file:\n",
    "    pickle.dump(dic, file)"
   ]
  },
  {
   "cell_type": "markdown",
   "id": "a2dec7dc",
   "metadata": {},
   "source": [
    "# Завдання 3\n",
    "\tВідкрийте серіалізований файл (що ви зробили вище). \n",
    "\tНапишіть програму, що запитує артикул товарної позиції, а повертає стрічку json\n",
    "\tПриклад програми:\n",
    "\n",
    "    ----------------**********----------------\n",
    "    Введіть артикул запчастини:\n",
    "\n",
    "    >>>>3963\n",
    "    {'part' : '3963', 'name' : 'Очиститель двигателя (спрей) Liqui Moly 0.4л',  'status' : 'В наличии', 'price' :'277 грн'}"
   ]
  },
  {
   "cell_type": "code",
   "execution_count": 77,
   "id": "0d87ee17",
   "metadata": {},
   "outputs": [
    {
     "name": "stdout",
     "output_type": "stream",
     "text": [
      "Введіть артикул: 3963\n"
     ]
    },
    {
     "data": {
      "text/plain": [
       "'{\"\\\\u041d\\\\u0430\\\\u0437\\\\u0432\\\\u0430\": \"\\\\u041e\\\\u0447\\\\u0438\\\\u0441\\\\u0442\\\\u0438\\\\u0442\\\\u0435\\\\u043b\\\\u044c \\\\u0434\\\\u0432\\\\u0438\\\\u0433\\\\u0430\\\\u0442\\\\u0435\\\\u043b\\\\u044f (\\\\u0441\\\\u043f\\\\u0440\\\\u0435\\\\u0439) Liqui Moly 0.4\\\\u043b\", \"\\\\u041d\\\\u0430\\\\u044f\\\\u0432\\\\u043d\\\\u0456\\\\u0441\\\\u0442\\\\u044c\": \"\\\\u0412 \\\\u043d\\\\u0430\\\\u043b\\\\u0438\\\\u0447\\\\u0438\\\\u0438\", \"\\\\u0426\\\\u0456\\\\u043d\\\\u0430\": 277}'"
      ]
     },
     "execution_count": 77,
     "metadata": {},
     "output_type": "execute_result"
    }
   ],
   "source": [
    "art = input(\"Введіть артикул: \")\n",
    "\n",
    "t = json.loads(jdic)\n",
    "\n",
    "string = json.dumps(t[art])\n",
    "string"
   ]
  },
  {
   "cell_type": "markdown",
   "id": "f10e1399",
   "metadata": {},
   "source": [
    "# Завдання 4\n",
    "\tЗнайдіть всі товари, у яких аромат яблука, та виведіть їх. \n",
    "\t(Врахуйте що слово \"яблоко\" може відмінятися в залежності від речення) \n",
    "\t\n",
    "\t\t\n",
    "\n",
    "\t\t"
   ]
  },
  {
   "cell_type": "code",
   "execution_count": 83,
   "id": "889078da",
   "metadata": {},
   "outputs": [
    {
     "name": "stdout",
     "output_type": "stream",
     "text": [
      "7611 |-| Омыватель стекла летний (концентрат) яблоко 0.25л Liqui Moly |-| В наличии |-| 196\n",
      "36001 |-| Омыватель стекла летний аромат яблока 1л (концентрат) Liqui Moly |-| В наличии |-| 73\n",
      "8820 |-| Омыватель стекла летний аромат яблока 2л Liqui Moly |-| В наличии |-| 85\n",
      "AFAM-007 |-| Освежитель воздуха Areon Mon Classic аромат яблока |-| Нет в наличии |-| 17\n",
      "AFA-019 |-| Освежитель воздуха гелевый Areon аромат яблока |-| В наличии |-| 35\n",
      "F07AP |-| Освежитель воздуха ёлка (ароматизатор) Zollex аромат яблока |-| Нет в наличии |-| 10\n"
     ]
    }
   ],
   "source": [
    "for key, value in dic.items():\n",
    "    if \"ябло\" in value[\"Назва\"]:\n",
    "        print(f'{key} |-| {value[\"Назва\"]} |-| {value[\"Наявність\"]} |-| {value[\"Ціна\"]}')"
   ]
  }
 ],
 "metadata": {
  "kernelspec": {
   "display_name": "Python 3 (ipykernel)",
   "language": "python",
   "name": "python3"
  },
  "language_info": {
   "codemirror_mode": {
    "name": "ipython",
    "version": 3
   },
   "file_extension": ".py",
   "mimetype": "text/x-python",
   "name": "python",
   "nbconvert_exporter": "python",
   "pygments_lexer": "ipython3",
   "version": "3.9.13"
  }
 },
 "nbformat": 4,
 "nbformat_minor": 5
}
