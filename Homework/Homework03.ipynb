{
 "cells": [
  {
   "cell_type": "markdown",
   "id": "91e6a5a0",
   "metadata": {},
   "source": [
    "# Завдання 1\n",
    "    Дано ціле число. Якщо воно додатнє, то помножити його на 2; в іншому випадку не змінювати його.\n",
    "    Вивести кінцеве значення."
   ]
  },
  {
   "cell_type": "code",
   "execution_count": 3,
   "id": "51b1c37b",
   "metadata": {},
   "outputs": [
    {
     "data": {
      "text/plain": [
       "20"
      ]
     },
     "execution_count": 3,
     "metadata": {},
     "output_type": "execute_result"
    }
   ],
   "source": [
    "a = 10\n",
    "\n",
    "if a > 0:\n",
    "    a *= 2\n",
    "\n",
    "a"
   ]
  },
  {
   "cell_type": "markdown",
   "id": "396907ff",
   "metadata": {},
   "source": [
    "# Завдання 2\n",
    "    Дано два цілих числа. Якщо вони рівні, то присвоїти цим змінним нулі;\n",
    "    в іншому випадку  - кожній змінній присвоїти суму цих значень."
   ]
  },
  {
   "cell_type": "code",
   "execution_count": 7,
   "id": "764328dc",
   "metadata": {},
   "outputs": [
    {
     "data": {
      "text/plain": [
       "(11, 11)"
      ]
     },
     "execution_count": 7,
     "metadata": {},
     "output_type": "execute_result"
    }
   ],
   "source": [
    "a = 5\n",
    "b = 6\n",
    "\n",
    "if a == b:\n",
    "    a = b = 0\n",
    "else:\n",
    "    a = b = a + b\n",
    "    \n",
    "a, b"
   ]
  },
  {
   "cell_type": "markdown",
   "id": "7ca30667",
   "metadata": {},
   "source": [
    "# Завдання 3\n",
    "    Дано три цілих числа. Знайти суму двох найбільших із них."
   ]
  },
  {
   "cell_type": "code",
   "execution_count": 18,
   "id": "e06ac430",
   "metadata": {},
   "outputs": [
    {
     "data": {
      "text/plain": [
       "11"
      ]
     },
     "execution_count": 18,
     "metadata": {},
     "output_type": "execute_result"
    }
   ],
   "source": [
    "l = [5,1,6]\n",
    "\n",
    "l.sort(reverse=True)\n",
    "sum = l[0] + l[1]\n",
    "sum"
   ]
  },
  {
   "cell_type": "markdown",
   "id": "69636d9c",
   "metadata": {},
   "source": [
    "# Завдання 4\n",
    "    Дана стрічка. Якщо в цій стрічці відсутня буква \"a\", вивести \"False\".\n",
    "    Якщо буква зустрічається один раз - вивести її індекс.\n",
    "    Якщо більше одного разу - вивести індекс першого та останнього входження.\n",
    " \n",
    " "
   ]
  },
  {
   "cell_type": "code",
   "execution_count": 41,
   "id": "84b6fb3b",
   "metadata": {},
   "outputs": [
    {
     "name": "stdout",
     "output_type": "stream",
     "text": [
      "3 6\n"
     ]
    }
   ],
   "source": [
    "st = 'jkfadsajfnr'\n",
    "\n",
    "if \"a\" not in st:\n",
    "    print(False)\n",
    "elif st.find(\"a\") == st.rfind(\"a\"):\n",
    "    print(st.find(\"a\"))\n",
    "elif st.find(\"a\") != st.rfind(\"a\"):\n",
    "    print(st.find(\"a\"), st.rfind(\"a\"))"
   ]
  },
  {
   "cell_type": "markdown",
   "id": "3d8867c5",
   "metadata": {},
   "source": [
    "# Завдання 5\n",
    "    Дано одне число Price - ціна на 1 кг апельсин. \n",
    "    Вивести вартість 1, 2, ... , 10 кг апельсин.\n",
    "    (Спробуйте вирішити задачу двома способами: циклом FOR та циклом WHILE)"
   ]
  },
  {
   "cell_type": "code",
   "execution_count": 46,
   "id": "598b5ba4",
   "metadata": {
    "scrolled": true
   },
   "outputs": [
    {
     "name": "stdout",
     "output_type": "stream",
     "text": [
      "Ціна за 1 кг апельсинів = 45.89 грн\n",
      "Ціна за 2 кг апельсинів = 91.78 грн\n",
      "Ціна за 3 кг апельсинів = 137.67 грн\n",
      "Ціна за 4 кг апельсинів = 183.56 грн\n",
      "Ціна за 5 кг апельсинів = 229.45 грн\n",
      "Ціна за 6 кг апельсинів = 275.34 грн\n",
      "Ціна за 7 кг апельсинів = 321.23 грн\n",
      "Ціна за 8 кг апельсинів = 367.12 грн\n",
      "Ціна за 9 кг апельсинів = 413.01 грн\n",
      "Ціна за 10 кг апельсинів = 458.9 грн\n"
     ]
    }
   ],
   "source": [
    "price = 45.89\n",
    "\n",
    "for i in range(1, 11):\n",
    "    print(\"Ціна за\", i, \"кг апельсинів =\", round(i*price,2), \"грн\")"
   ]
  },
  {
   "cell_type": "code",
   "execution_count": 47,
   "id": "3a4026d6",
   "metadata": {},
   "outputs": [
    {
     "name": "stdout",
     "output_type": "stream",
     "text": [
      "Ціна за 1 кг апельсинів = 45.89 грн\n",
      "Ціна за 2 кг апельсинів = 91.78 грн\n",
      "Ціна за 3 кг апельсинів = 137.67 грн\n",
      "Ціна за 4 кг апельсинів = 183.56 грн\n",
      "Ціна за 5 кг апельсинів = 229.45 грн\n",
      "Ціна за 6 кг апельсинів = 275.34 грн\n",
      "Ціна за 7 кг апельсинів = 321.23 грн\n",
      "Ціна за 8 кг апельсинів = 367.12 грн\n",
      "Ціна за 9 кг апельсинів = 413.01 грн\n",
      "Ціна за 10 кг апельсинів = 458.9 грн\n"
     ]
    }
   ],
   "source": [
    "i=1\n",
    "while i < 11:\n",
    "    print(\"Ціна за\", i, \"кг апельсинів =\", round(i*price,2), \"грн\")\n",
    "    i+=1"
   ]
  },
  {
   "cell_type": "markdown",
   "id": "88197faf",
   "metadata": {},
   "source": [
    "# Завдання 6\n",
    "    Дано ціле число. Для цього числа виведіть сходинки.\n",
    "    Наприклад, для числа 5 результат наступний:\n",
    "        #\n",
    "        ##\n",
    "        ###\n",
    "        ####\n",
    "        #####"
   ]
  },
  {
   "cell_type": "code",
   "execution_count": 52,
   "id": "cd416d6f",
   "metadata": {},
   "outputs": [
    {
     "name": "stdout",
     "output_type": "stream",
     "text": [
      "#\n",
      "##\n",
      "###\n",
      "####\n",
      "#####\n"
     ]
    }
   ],
   "source": [
    "l = ''\n",
    "for i in range(5):\n",
    "    l = l + \"#\"\n",
    "    print(l)"
   ]
  },
  {
   "cell_type": "markdown",
   "id": "50b1681a",
   "metadata": {},
   "source": [
    "# Завдання 7\n",
    "    Виведіть суму всіх непарних чисел, що кратні 5, в діапазоні від 0 до 1000.  "
   ]
  },
  {
   "cell_type": "code",
   "execution_count": 71,
   "id": "33d36e64",
   "metadata": {},
   "outputs": [
    {
     "data": {
      "text/plain": [
       "50000"
      ]
     },
     "execution_count": 71,
     "metadata": {},
     "output_type": "execute_result"
    }
   ],
   "source": [
    "su = 0\n",
    "for i in range(1001):\n",
    "    if i % 2 == 1 and i % 5 == 0:\n",
    "        su += i\n",
    "su"
   ]
  },
  {
   "cell_type": "markdown",
   "id": "d4134bb4",
   "metadata": {},
   "source": [
    "# Завдання 8\n",
    "    На карантині я розпочав бігові тренування. В перший день пробіг 500 метрів.\n",
    "    Кожний наступний день дистанцію збільшую на 10%. Відомо, що карантин триває 30 днів.\n",
    "    \n",
    "        - Яку дистанцію я пробіжу в останній день карантину?\n",
    "        \n",
    "        - Скільки днів потрібно бігати, щоб сумарна дистанція за всі дні \n",
    "            перевищила довжину марафону (42 км)?       "
   ]
  },
  {
   "cell_type": "code",
   "execution_count": 79,
   "id": "efd39989",
   "metadata": {},
   "outputs": [
    {
     "name": "stdout",
     "output_type": "stream",
     "text": [
      "Дистанція за останній день карантину: 8.72 км\n"
     ]
    }
   ],
   "source": [
    "n = 0.5\n",
    "su = 0\n",
    "\n",
    "for i in range(1,31):\n",
    "    su += n\n",
    "    n *= 1.1        \n",
    "print(f\"Дистанція за останній день карантину: {round(n,2)} км\")"
   ]
  },
  {
   "cell_type": "code",
   "execution_count": 78,
   "id": "ec36e756",
   "metadata": {},
   "outputs": [
    {
     "name": "stdout",
     "output_type": "stream",
     "text": [
      "Треба бігти 24 днів щоб загалом пробігти 42 км\n"
     ]
    }
   ],
   "source": [
    "n = 0.5\n",
    "su = 0\n",
    "for i in range(1,31):\n",
    "    su += n\n",
    "    n *= 1.1\n",
    "    if su >= 42:\n",
    "        print(f\"Треба бігти {i} днів щоб загалом пробігти 42 км\")\n",
    "        break"
   ]
  },
  {
   "cell_type": "markdown",
   "id": "313a1768",
   "metadata": {},
   "source": [
    "# Завдання 9\n",
    "    Виведіть добуток всіх цілих чисел для послідовності -23, -22, -21, -20, ..., 8, 9, 10, 11, 12"
   ]
  },
  {
   "cell_type": "code",
   "execution_count": 82,
   "id": "26f1aee9",
   "metadata": {},
   "outputs": [
    {
     "data": {
      "text/plain": [
       "-12383157381152686026522624000000"
      ]
     },
     "execution_count": 82,
     "metadata": {},
     "output_type": "execute_result"
    }
   ],
   "source": [
    "prod = 1\n",
    "for i in range(-23,13):\n",
    "    if i == 0:\n",
    "        continue\n",
    "    prod *= i\n",
    "prod"
   ]
  },
  {
   "cell_type": "markdown",
   "id": "64332962",
   "metadata": {},
   "source": [
    "# Завдання 10*\n",
    "    Вивести N-елементів послідовності чисел Фібоначчі\n",
    "    (Послідовність, де кожен наступний елемент дорівнює сумі двох попередніх;\n",
    "        перший та другий член послідовності дорівнює 1;\n",
    "        Приклад: 1, 1, 2, 3, 5, 8, 13, 21, 34, 55 ...)"
   ]
  },
  {
   "cell_type": "code",
   "execution_count": 85,
   "id": "a019431a",
   "metadata": {},
   "outputs": [
    {
     "name": "stdout",
     "output_type": "stream",
     "text": [
      "[1, 1, 2, 3, 5, 8, 13, 21, 34, 55, 89, 144, 233, 377, 610, 987, 1597, 2584, 4181, 6765, 10946, 17711, 28657, 46368, 75025, 121393, 196418, 317811, 514229, 832040, 1346269, 2178309, 3524578, 5702887, 9227465, 14930352, 24157817, 39088169, 63245986, 102334155, 165580141, 267914296, 433494437, 701408733, 1134903170, 1836311903, 2971215073, 4807526976, 7778742049, 12586269025, 20365011074, 32951280099]\n"
     ]
    }
   ],
   "source": [
    "N = 50\n",
    "l = [1, 1]\n",
    "for i in range(N):\n",
    "    l.append(l[len(l)-1]+l[len(l)-2])\n",
    "print(l)"
   ]
  },
  {
   "cell_type": "markdown",
   "id": "b402c4e1",
   "metadata": {},
   "source": [
    "# Завдання 11*\n",
    "    Перевірити, чи натуральне число N є просте.\n",
    "        (Число називається просте - якщо кількість його дільників становить два:\n",
    "        одиниця і саме число)"
   ]
  },
  {
   "cell_type": "code",
   "execution_count": 95,
   "id": "d16e202a",
   "metadata": {},
   "outputs": [
    {
     "name": "stdout",
     "output_type": "stream",
     "text": [
      "Число просте\n"
     ]
    }
   ],
   "source": [
    "su = 0\n",
    "N = 5\n",
    "\n",
    "for i in range(1,n+1):\n",
    "    if n % i == 0:\n",
    "        su += 1\n",
    "if n == 1:\n",
    "    print(\"Число ні просте ні складене\")\n",
    "elif su == 2:\n",
    "    print(\"Число просте\")\n",
    "else:\n",
    "    print(\"Число складене\")"
   ]
  }
 ],
 "metadata": {
  "kernelspec": {
   "display_name": "Python 3 (ipykernel)",
   "language": "python",
   "name": "python3"
  },
  "language_info": {
   "codemirror_mode": {
    "name": "ipython",
    "version": 3
   },
   "file_extension": ".py",
   "mimetype": "text/x-python",
   "name": "python",
   "nbconvert_exporter": "python",
   "pygments_lexer": "ipython3",
   "version": "3.9.13"
  }
 },
 "nbformat": 4,
 "nbformat_minor": 5
}
