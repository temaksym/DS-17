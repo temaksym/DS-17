{
 "cells": [
  {
   "cell_type": "markdown",
   "id": "99d3cd3f",
   "metadata": {},
   "source": [
    "# Завдання 1\n",
    "\tКористувач вводить назву файлу(стрічка). Якщо назва допустима, то створіть пустий файл з цією назвою.\n",
    "\tЯкщо ні - виведіть повідомлення \"Назва недопустима\"\n",
    "\t(використайте обробку помилок try-except)"
   ]
  },
  {
   "cell_type": "code",
   "execution_count": 9,
   "id": "7a987a1c",
   "metadata": {},
   "outputs": [
    {
     "name": "stdout",
     "output_type": "stream",
     "text": [
      "Введіть стрічку: 1.pyt\n"
     ]
    }
   ],
   "source": [
    "string = input(\"Введіть стрічку: \")\n",
    "\n",
    "try:\n",
    "    f = open(string, 'w')\n",
    "    f.close\n",
    "except:\n",
    "    print(\"Назва недопустима\")"
   ]
  },
  {
   "cell_type": "markdown",
   "id": "a81d6287",
   "metadata": {},
   "source": [
    "# Завдання 2\n",
    "\tДано два цілих числа N, K\n",
    "\tСтворіть текстовий файл. Запишіть у нього N рядків, кожна із яких складається із K символів \"*\" (зірочка)"
   ]
  },
  {
   "cell_type": "code",
   "execution_count": 50,
   "id": "d8178587",
   "metadata": {},
   "outputs": [],
   "source": [
    "N = 3\n",
    "K = 4\n",
    "string = \"\"\n",
    "\n",
    "f = open(\"Homework05_file1.txt\",\"a\")\n",
    "for j in range(K):\n",
    "    string += \"*\"\n",
    "    \n",
    "for i in range(N):\n",
    "    f.write(string + \"\\n\")\n",
    "f.close()"
   ]
  },
  {
   "cell_type": "code",
   "execution_count": 29,
   "id": "98044848",
   "metadata": {},
   "outputs": [
    {
     "name": "stdout",
     "output_type": "stream",
     "text": [
      "****\n",
      "****\n",
      "****\n",
      "\n"
     ]
    }
   ],
   "source": [
    "f = open(\"files//Homework05_file1.txt\",\"r\")\n",
    "print(f.read())\n",
    "f.close()"
   ]
  },
  {
   "cell_type": "markdown",
   "id": "0a148b5f",
   "metadata": {},
   "source": [
    "# Завдання 3\n",
    "\tУ вас є файл із текстом.\n",
    "\tВидаліть перший рядок із файлу."
   ]
  },
  {
   "cell_type": "code",
   "execution_count": 44,
   "id": "a5067d83",
   "metadata": {},
   "outputs": [],
   "source": [
    "# Створення текстового файлу\n",
    "f = open(\"Homework05_file2.txt\",\"w\")\n",
    "f.write(\"Lorem ipsum .....\\n\")\n",
    "f.write(\"Data science course\\n\")\n",
    "f.write(\"Max\\n\")\n",
    "f.close()"
   ]
  },
  {
   "cell_type": "code",
   "execution_count": 45,
   "id": "58717f2f",
   "metadata": {
    "scrolled": true
   },
   "outputs": [
    {
     "name": "stdout",
     "output_type": "stream",
     "text": [
      "Lorem ipsum .....\n",
      "Data science course\n",
      "Max\n",
      "\n"
     ]
    }
   ],
   "source": [
    "f = open(\"Homework05_file2.txt\", \"r\")\n",
    "print(f.read())\n",
    "f.close()"
   ]
  },
  {
   "cell_type": "code",
   "execution_count": 46,
   "id": "1b7a9e0d",
   "metadata": {},
   "outputs": [],
   "source": [
    "f = open(\"Homework05_file2.txt\", \"r\")\n",
    "txt = f.read()\n",
    "f.close()\n",
    "\n",
    "f = open(\"Homework05_file2.txt\", \"w\")\n",
    "f.write(txt[(txt.find(\"\\n\")+1):])\n",
    "f.close()"
   ]
  },
  {
   "cell_type": "code",
   "execution_count": 47,
   "id": "482d04be",
   "metadata": {},
   "outputs": [
    {
     "name": "stdout",
     "output_type": "stream",
     "text": [
      "Data science course\n",
      "Max\n",
      "\n"
     ]
    }
   ],
   "source": [
    "f = open(\"Homework05_file2.txt\", \"r\")\n",
    "print(f.read())\n",
    "f.close()"
   ]
  },
  {
   "cell_type": "markdown",
   "id": "dc884356",
   "metadata": {},
   "source": [
    "# Завдання 4\n",
    "\tУ вас є файл із текстом.\n",
    "\tУ кожному рядку даного файлу видаліть K(натуральне число) символів."
   ]
  },
  {
   "cell_type": "code",
   "execution_count": 73,
   "id": "203d0aa0",
   "metadata": {},
   "outputs": [],
   "source": [
    "# Створення текстового файлу\n",
    "f = open(\"Homework05_file3.txt\",\"w\")\n",
    "f.write(\"Lorem ipsum .....\\n\")\n",
    "f.write(\"Data science course\\n\")\n",
    "f.write(\"Makson\\n\")\n",
    "f.close()"
   ]
  },
  {
   "cell_type": "code",
   "execution_count": 74,
   "id": "4be56c9f",
   "metadata": {
    "scrolled": false
   },
   "outputs": [
    {
     "name": "stdout",
     "output_type": "stream",
     "text": [
      "Lorem ipsum .....\n",
      "Data science course\n",
      "Makson\n",
      "\n"
     ]
    }
   ],
   "source": [
    "f = open(\"Homework05_file3.txt\", \"r\")\n",
    "print(f.read())\n",
    "f.close()"
   ]
  },
  {
   "cell_type": "code",
   "execution_count": 75,
   "id": "299cd849",
   "metadata": {},
   "outputs": [],
   "source": [
    "K = 3\n",
    "\n",
    "f = open(\"Homework05_file3.txt\", \"r\")\n",
    "txt = f.read()\n",
    "f.close()\n",
    "txt = txt.split(\"\\n\")\n",
    "txt.remove(\"\")\n",
    "\n",
    "f = open(\"Homework05_file3.txt\", \"w\")\n",
    "for i in txt:\n",
    "    f.write(i[K:]+\"\\n\")\n",
    "f.close()"
   ]
  },
  {
   "cell_type": "code",
   "execution_count": 76,
   "id": "2b4f66ec",
   "metadata": {},
   "outputs": [
    {
     "name": "stdout",
     "output_type": "stream",
     "text": [
      "em ipsum .....\n",
      "a science course\n",
      "son\n",
      "\n"
     ]
    }
   ],
   "source": [
    "f = open(\"Homework05_file3.txt\", \"r\")\n",
    "print(f.read())\n",
    "f.close()"
   ]
  },
  {
   "cell_type": "markdown",
   "id": "292c332a",
   "metadata": {},
   "source": [
    "# Завдання 5\n",
    "\tНапишіть інструкції, що викликають наступні помилки:\n",
    "\t\t- SyntaxError\n",
    "\t\t- IndentationError\n",
    "\t\t- NameError\n",
    "\t\t- IndexError\n",
    "\t\t- KeyError\n",
    "\t\t- ImportError\n",
    "\t\t- AttirbuteError\n",
    "\t\t- ZeroDivisionError\n",
    "\t\t- RuntimeError"
   ]
  },
  {
   "cell_type": "code",
   "execution_count": 78,
   "id": "20d58684",
   "metadata": {},
   "outputs": [
    {
     "ename": "SyntaxError",
     "evalue": "unexpected EOF while parsing (149104261.py, line 1)",
     "output_type": "error",
     "traceback": [
      "\u001b[1;36m  File \u001b[1;32m\"C:\\Users\\temak\\AppData\\Local\\Temp\\ipykernel_24200\\149104261.py\"\u001b[1;36m, line \u001b[1;32m1\u001b[0m\n\u001b[1;33m    print(\u001b[0m\n\u001b[1;37m          ^\u001b[0m\n\u001b[1;31mSyntaxError\u001b[0m\u001b[1;31m:\u001b[0m unexpected EOF while parsing\n"
     ]
    }
   ],
   "source": [
    "print("
   ]
  },
  {
   "cell_type": "code",
   "execution_count": 88,
   "id": "c9bb3786",
   "metadata": {},
   "outputs": [
    {
     "ename": "IndentationError",
     "evalue": "unindent does not match any outer indentation level (<tokenize>, line 3)",
     "output_type": "error",
     "traceback": [
      "\u001b[1;36m  File \u001b[1;32m\"<tokenize>\"\u001b[1;36m, line \u001b[1;32m3\u001b[0m\n\u001b[1;33m    else:\u001b[0m\n\u001b[1;37m    ^\u001b[0m\n\u001b[1;31mIndentationError\u001b[0m\u001b[1;31m:\u001b[0m unindent does not match any outer indentation level\n"
     ]
    }
   ],
   "source": [
    "if False:\n",
    "    type\n",
    " else:"
   ]
  },
  {
   "cell_type": "code",
   "execution_count": 79,
   "id": "e0d83fdb",
   "metadata": {},
   "outputs": [
    {
     "ename": "NameError",
     "evalue": "name 'x' is not defined",
     "output_type": "error",
     "traceback": [
      "\u001b[1;31m---------------------------------------------------------------------------\u001b[0m",
      "\u001b[1;31mNameError\u001b[0m                                 Traceback (most recent call last)",
      "\u001b[1;32m~\\AppData\\Local\\Temp\\ipykernel_24200\\1353120783.py\u001b[0m in \u001b[0;36m<module>\u001b[1;34m\u001b[0m\n\u001b[1;32m----> 1\u001b[1;33m \u001b[0mprint\u001b[0m\u001b[1;33m(\u001b[0m\u001b[0mx\u001b[0m\u001b[1;33m)\u001b[0m\u001b[1;33m\u001b[0m\u001b[1;33m\u001b[0m\u001b[0m\n\u001b[0m",
      "\u001b[1;31mNameError\u001b[0m: name 'x' is not defined"
     ]
    }
   ],
   "source": [
    "print(x)"
   ]
  },
  {
   "cell_type": "code",
   "execution_count": 89,
   "id": "6c47f2fb",
   "metadata": {},
   "outputs": [
    {
     "ename": "IndexError",
     "evalue": "list index out of range",
     "output_type": "error",
     "traceback": [
      "\u001b[1;31m---------------------------------------------------------------------------\u001b[0m",
      "\u001b[1;31mIndexError\u001b[0m                                Traceback (most recent call last)",
      "\u001b[1;32m~\\AppData\\Local\\Temp\\ipykernel_24200\\1435486092.py\u001b[0m in \u001b[0;36m<module>\u001b[1;34m\u001b[0m\n\u001b[0;32m      1\u001b[0m \u001b[0mi\u001b[0m \u001b[1;33m=\u001b[0m \u001b[1;33m[\u001b[0m\u001b[1;33m]\u001b[0m\u001b[1;33m\u001b[0m\u001b[1;33m\u001b[0m\u001b[0m\n\u001b[1;32m----> 2\u001b[1;33m \u001b[0mi\u001b[0m\u001b[1;33m[\u001b[0m\u001b[1;36m0\u001b[0m\u001b[1;33m]\u001b[0m\u001b[1;33m\u001b[0m\u001b[1;33m\u001b[0m\u001b[0m\n\u001b[0m",
      "\u001b[1;31mIndexError\u001b[0m: list index out of range"
     ]
    }
   ],
   "source": [
    "i = []\n",
    "i[0]"
   ]
  },
  {
   "cell_type": "code",
   "execution_count": 90,
   "id": "c6099574",
   "metadata": {},
   "outputs": [
    {
     "ename": "KeyError",
     "evalue": "'asda'",
     "output_type": "error",
     "traceback": [
      "\u001b[1;31m---------------------------------------------------------------------------\u001b[0m",
      "\u001b[1;31mKeyError\u001b[0m                                  Traceback (most recent call last)",
      "\u001b[1;32m~\\AppData\\Local\\Temp\\ipykernel_24200\\1735261623.py\u001b[0m in \u001b[0;36m<module>\u001b[1;34m\u001b[0m\n\u001b[0;32m      1\u001b[0m \u001b[0mdic\u001b[0m \u001b[1;33m=\u001b[0m \u001b[1;33m{\u001b[0m\u001b[1;34m\"Data\"\u001b[0m\u001b[1;33m:\u001b[0m \u001b[1;34m\"Science\"\u001b[0m\u001b[1;33m}\u001b[0m\u001b[1;33m\u001b[0m\u001b[1;33m\u001b[0m\u001b[0m\n\u001b[1;32m----> 2\u001b[1;33m \u001b[0mdic\u001b[0m\u001b[1;33m[\u001b[0m\u001b[1;34m\"asda\"\u001b[0m\u001b[1;33m]\u001b[0m\u001b[1;33m\u001b[0m\u001b[1;33m\u001b[0m\u001b[0m\n\u001b[0m",
      "\u001b[1;31mKeyError\u001b[0m: 'asda'"
     ]
    }
   ],
   "source": [
    "dic = {\"Data\": \"Science\"}\n",
    "dic[\"asda\"]"
   ]
  },
  {
   "cell_type": "code",
   "execution_count": 91,
   "id": "dbdf37fa",
   "metadata": {},
   "outputs": [
    {
     "ename": "ModuleNotFoundError",
     "evalue": "No module named 'request'",
     "output_type": "error",
     "traceback": [
      "\u001b[1;31m---------------------------------------------------------------------------\u001b[0m",
      "\u001b[1;31mModuleNotFoundError\u001b[0m                       Traceback (most recent call last)",
      "\u001b[1;32m~\\AppData\\Local\\Temp\\ipykernel_24200\\1724168889.py\u001b[0m in \u001b[0;36m<module>\u001b[1;34m\u001b[0m\n\u001b[1;32m----> 1\u001b[1;33m \u001b[1;32mimport\u001b[0m \u001b[0mrequest\u001b[0m\u001b[1;33m\u001b[0m\u001b[1;33m\u001b[0m\u001b[0m\n\u001b[0m",
      "\u001b[1;31mModuleNotFoundError\u001b[0m: No module named 'request'"
     ]
    }
   ],
   "source": [
    "import request"
   ]
  },
  {
   "cell_type": "code",
   "execution_count": 92,
   "id": "3d3a3e5e",
   "metadata": {},
   "outputs": [
    {
     "ename": "ZeroDivisionError",
     "evalue": "division by zero",
     "output_type": "error",
     "traceback": [
      "\u001b[1;31m---------------------------------------------------------------------------\u001b[0m",
      "\u001b[1;31mZeroDivisionError\u001b[0m                         Traceback (most recent call last)",
      "\u001b[1;32m~\\AppData\\Local\\Temp\\ipykernel_24200\\2219314525.py\u001b[0m in \u001b[0;36m<module>\u001b[1;34m\u001b[0m\n\u001b[1;32m----> 1\u001b[1;33m \u001b[1;36m5\u001b[0m \u001b[1;33m/\u001b[0m \u001b[1;36m0\u001b[0m\u001b[1;33m\u001b[0m\u001b[1;33m\u001b[0m\u001b[0m\n\u001b[0m",
      "\u001b[1;31mZeroDivisionError\u001b[0m: division by zero"
     ]
    }
   ],
   "source": [
    "5 / 0"
   ]
  }
 ],
 "metadata": {
  "kernelspec": {
   "display_name": "Python 3 (ipykernel)",
   "language": "python",
   "name": "python3"
  },
  "language_info": {
   "codemirror_mode": {
    "name": "ipython",
    "version": 3
   },
   "file_extension": ".py",
   "mimetype": "text/x-python",
   "name": "python",
   "nbconvert_exporter": "python",
   "pygments_lexer": "ipython3",
   "version": "3.9.13"
  }
 },
 "nbformat": 4,
 "nbformat_minor": 5
}
