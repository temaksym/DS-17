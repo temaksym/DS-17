{
 "cells": [
  {
   "cell_type": "markdown",
   "id": "1a94860d",
   "metadata": {},
   "source": [
    "# 1. Markdown cells\n",
    "* Hi! Its Main Academy?\n",
    "* All HTML tabs are supported!\n",
    "* Моя сторінка на лінкедін [Лінкедін](https://www.linkedin.com/in/maksym-teutuliak-33339424a/?lipi=urn%3Ali%3Apage%3Ad_flagship3_feed%3Bcs13oW3VT%2FWXjOi0M3zS%2Fw%3D%3D)"
   ]
  },
  {
   "cell_type": "markdown",
   "id": "1ba20365",
   "metadata": {},
   "source": [
    "# This is Heading1\n",
    "## This is Heading2\n",
    "some gray colored text:\n",
    ">This is where we can bring quotes and present them nicely\n",
    "\n",
    "And this is the paragraph about something very important. Even math:"
   ]
  },
  {
   "cell_type": "markdown",
   "id": "1f642a53",
   "metadata": {},
   "source": []
  },
  {
   "cell_type": "code",
   "execution_count": null,
   "id": "09cea03c",
   "metadata": {},
   "outputs": [],
   "source": [
    "     Here's [a link to something else][another place].\n",
    "     Here's [yet another link][another-link].\n",
    "     And now back to [the first link][another place].\n",
    "\n",
    "     [another place]: www.github.com\n",
    "     [another-link]: www.google.com"
   ]
  }
 ],
 "metadata": {
  "kernelspec": {
   "display_name": "Python 3 (ipykernel)",
   "language": "python",
   "name": "python3"
  },
  "language_info": {
   "codemirror_mode": {
    "name": "ipython",
    "version": 3
   },
   "file_extension": ".py",
   "mimetype": "text/x-python",
   "name": "python",
   "nbconvert_exporter": "python",
   "pygments_lexer": "ipython3",
   "version": "3.9.13"
  }
 },
 "nbformat": 4,
 "nbformat_minor": 5
}
