{
 "cells": [
  {
   "cell_type": "markdown",
   "source": [
    "# 1. Markdown cells\n",
    "* Hi! Its Main Academy?\n",
    "* All HTML tabs are supported!\n",
    "* Моя сторінка на лінкедін [Лінкедін](https://www.linkedin.com/in/maksym-teutuliak-33339424a/?lipi=urn%3Ali%3Apage%3Ad_flagship3_feed%3Bcs13oW3VT%2FWXjOi0M3zS%2Fw%3D%3D)"
   ],
   "attachments": {},
   "metadata": {
    "datalore": {
     "node_id": "gJ3ELhg0tnIqMp44g6Rk5q",
     "type": "MD",
     "hide_input_from_viewers": false,
     "hide_output_from_viewers": false,
     "report_properties": {}
    }
   }
  },
  {
   "cell_type": "markdown",
   "source": [
    "# This is Heading1\n",
    "## This is Heading2\n",
    "some gray colored text:\n",
    ">This is where we can bring quotes and present them nicely\n",
    "\n",
    "And this is the paragraph about something very important. Even math:  \n",
    "\n",
    "<p style=\"text-align: center;\">$y_{sub}=\\sqrt{x_{sub}}$</p>"
   ],
   "attachments": {},
   "metadata": {
    "datalore": {
     "node_id": "kYwVVRh569eMVXn0dmS9eB",
     "type": "MD",
     "hide_input_from_viewers": false,
     "hide_output_from_viewers": false,
     "report_properties": {}
    }
   }
  },
  {
   "cell_type": "markdown",
   "source": [],
   "attachments": {},
   "metadata": {
    "datalore": {
     "node_id": "zvaOg4oiiHfnIaCRG2wwip",
     "type": "MD",
     "hide_input_from_viewers": false,
     "hide_output_from_viewers": false,
     "report_properties": {}
    }
   }
  },
  {
   "cell_type": "markdown",
   "source": [
    "**Or python code exmaple:**"
   ],
   "attachments": {},
   "metadata": {
    "datalore": {
     "node_id": "KbuLWpe95VDcN9Uw8xDQee",
     "type": "MD",
     "hide_input_from_viewers": true,
     "hide_output_from_viewers": true
    }
   }
  },
  {
   "cell_type": "code",
   "source": [
    "|import math\n",
    "def foo():\n",
    "     return \"foo\""
   ],
   "execution_count": 1,
   "outputs": [],
   "metadata": {
    "datalore": {
     "node_id": "rlEnlDUEP6S1kcCOPA23kx",
     "type": "CODE",
     "hide_input_from_viewers": true,
     "hide_output_from_viewers": true
    }
   }
  },
  {
   "cell_type": "markdown",
   "source": [
    "  \n",
    "# Other math formulas:"
   ],
   "attachments": {},
   "metadata": {
    "datalore": {
     "node_id": "9v7cW5A0XCE9BzJeeOcXAW",
     "type": "MD",
     "hide_input_from_viewers": true,
     "hide_output_from_viewers": true
    }
   }
  },
  {
   "cell_type": "markdown",
   "source": [
    "Here is the sample mean:  \n",
    "$\\overline{y}=\\frac{1}{n}\\displaystyle\\sum_{i=1}^k(y_{i}-\\overline{y})^2$  \n",
    "Here is the sample variance:  \n",
    "$\\sigma^2=\\frac{\\displaystyle\\sum_{i=1}^n(y_{i}-\\overline{y})^2}{n-1}$  \n",
    "Here is the sample standart deviation:  \n",
    "$\\sigma=\\sqrt{\\frac{\\displaystyle\\sum_{i=1}^n(y_{i}-\\overline{y})^2}{n-1}}$"
   ],
   "attachments": {},
   "metadata": {
    "datalore": {
     "node_id": "6EcHH5bOo5RVkffUDcz60y",
     "type": "MD",
     "hide_input_from_viewers": true,
     "hide_output_from_viewers": true
    }
   }
  }
 ],
 "metadata": {
  "kernelspec": {
   "display_name": "Python",
   "language": "python",
   "name": "python"
  },
  "datalore": {
   "version": 1,
   "computation_mode": "JUPYTER",
   "package_manager": "pip",
   "base_environment": "default",
   "packages": []
  }
 },
 "nbformat": 4,
 "nbformat_minor": 4
}
