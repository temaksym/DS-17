{
 "cells": [
  {
   "cell_type": "markdown",
   "id": "478415f6",
   "metadata": {},
   "source": [
    "<h1 align=\"center\">Flat-rent price in Kyiv prediction project</h>"
   ]
  },
  {
   "cell_type": "markdown",
   "id": "460eba41",
   "metadata": {},
   "source": [
    "## Parsing prices from Flatfy and other services"
   ]
  },
  {
   "cell_type": "markdown",
   "id": "5caeccd1",
   "metadata": {},
   "source": [
    "![Instructions](instructions.jpg)"
   ]
  },
  {
   "cell_type": "code",
   "execution_count": 62,
   "id": "5298137f",
   "metadata": {},
   "outputs": [],
   "source": [
    "from bs4 import BeautifulSoup\n",
    "import requests\n",
    "import pandas as pd\n",
    "import re"
   ]
  },
  {
   "cell_type": "code",
   "execution_count": 79,
   "id": "8a304c11",
   "metadata": {},
   "outputs": [],
   "source": [
    "dd = list()\n",
    "for i in range(1, 100):\n",
    "    params = ((\"page\", i),)\n",
    "    headers = {\n",
    "            \"Cookie\": 'PHPSESSID=cbtht0octv816jns849d8h4c7j; _csrf=0eefb4c857ea49f1180ac815109de8dbafbc6e56fc3100c5d887d403b89efc1aa%3A2%3A%7Bi%3A0%3Bs%3A5%3A%22_csrf%22%3Bi%3A1%3Bs%3A32%3A%229gTN3pRcfeOCx1mxpVGBF58uFKgTY4ak%22%3B%7D'\n",
    "        }    \n",
    "    response = requests.get(\"https://flatfy.ua/uk/%D0%BE%D1%80%D0%B5%D0%BD%D0%B4%D0%B0-%D0%BA%D0%B2%D0%B0%D1%80%D1%82%D0%B8%D1%80-%D0%BA%D0%B8%D1%97%D0%B2?\", params=params, headers=headers)\n",
    "\n",
    "    soup = BeautifulSoup(response.content, \"html.parser\")\n",
    "\n",
    "    blocks = soup.find_all(\"div\", class_=\"realty-preview__content-column\")\n",
    "    for block in blocks:\n",
    "        price = int(float(re.sub(r\"\\D\", \"\", block.find(\"div\", class_=\"realty-preview-price realty-preview-price--main\").text)))\n",
    "        rooms = int(float(block.find(\"div\", class_=\"realty-preview-properties-item\").text.split()[0])),\n",
    "        area = int(float(block.find(\"div\", class_=\"realty-preview-properties-item\").next_sibling.text.split()[0])),\n",
    "        try:\n",
    "            region = block.find(\"div\", class_=\"realty-preview-sub-title-wrapper\").find_all(\"a\")[-2].text \n",
    "        except: \n",
    "            region = None\n",
    "        dd.append([price, rooms, area, region])"
   ]
  },
  {
   "cell_type": "code",
   "execution_count": 80,
   "id": "9accdbe7",
   "metadata": {},
   "outputs": [
    {
     "data": {
      "text/html": [
       "<div>\n",
       "<style scoped>\n",
       "    .dataframe tbody tr th:only-of-type {\n",
       "        vertical-align: middle;\n",
       "    }\n",
       "\n",
       "    .dataframe tbody tr th {\n",
       "        vertical-align: top;\n",
       "    }\n",
       "\n",
       "    .dataframe thead th {\n",
       "        text-align: right;\n",
       "    }\n",
       "</style>\n",
       "<table border=\"1\" class=\"dataframe\">\n",
       "  <thead>\n",
       "    <tr style=\"text-align: right;\">\n",
       "      <th></th>\n",
       "      <th>Ціна, грн</th>\n",
       "      <th>Кімнати</th>\n",
       "      <th>Площа</th>\n",
       "      <th>Район</th>\n",
       "    </tr>\n",
       "  </thead>\n",
       "  <tbody>\n",
       "    <tr>\n",
       "      <th>0</th>\n",
       "      <td>6000</td>\n",
       "      <td>(2,)</td>\n",
       "      <td>(46,)</td>\n",
       "      <td>Подільський</td>\n",
       "    </tr>\n",
       "    <tr>\n",
       "      <th>1</th>\n",
       "      <td>5700</td>\n",
       "      <td>(1,)</td>\n",
       "      <td>(33,)</td>\n",
       "      <td>Дніпровський</td>\n",
       "    </tr>\n",
       "    <tr>\n",
       "      <th>2</th>\n",
       "      <td>13000</td>\n",
       "      <td>(3,)</td>\n",
       "      <td>(67,)</td>\n",
       "      <td>Дніпровський</td>\n",
       "    </tr>\n",
       "    <tr>\n",
       "      <th>3</th>\n",
       "      <td>36509</td>\n",
       "      <td>(1,)</td>\n",
       "      <td>(45,)</td>\n",
       "      <td>Печерський</td>\n",
       "    </tr>\n",
       "    <tr>\n",
       "      <th>4</th>\n",
       "      <td>7500</td>\n",
       "      <td>(2,)</td>\n",
       "      <td>(60,)</td>\n",
       "      <td>Оболонський</td>\n",
       "    </tr>\n",
       "    <tr>\n",
       "      <th>...</th>\n",
       "      <td>...</td>\n",
       "      <td>...</td>\n",
       "      <td>...</td>\n",
       "      <td>...</td>\n",
       "    </tr>\n",
       "    <tr>\n",
       "      <th>2371</th>\n",
       "      <td>7500</td>\n",
       "      <td>(2,)</td>\n",
       "      <td>(56,)</td>\n",
       "      <td>Деснянський</td>\n",
       "    </tr>\n",
       "    <tr>\n",
       "      <th>2372</th>\n",
       "      <td>9500</td>\n",
       "      <td>(2,)</td>\n",
       "      <td>(44,)</td>\n",
       "      <td>Солом'янський</td>\n",
       "    </tr>\n",
       "    <tr>\n",
       "      <th>2373</th>\n",
       "      <td>16000</td>\n",
       "      <td>(3,)</td>\n",
       "      <td>(67,)</td>\n",
       "      <td>Подільський</td>\n",
       "    </tr>\n",
       "    <tr>\n",
       "      <th>2374</th>\n",
       "      <td>12000</td>\n",
       "      <td>(2,)</td>\n",
       "      <td>(45,)</td>\n",
       "      <td>Дніпровський</td>\n",
       "    </tr>\n",
       "    <tr>\n",
       "      <th>2375</th>\n",
       "      <td>38000</td>\n",
       "      <td>(2,)</td>\n",
       "      <td>(118,)</td>\n",
       "      <td>Печерський</td>\n",
       "    </tr>\n",
       "  </tbody>\n",
       "</table>\n",
       "<p>2376 rows × 4 columns</p>\n",
       "</div>"
      ],
      "text/plain": [
       "      Ціна, грн Кімнати   Площа          Район\n",
       "0          6000    (2,)   (46,)    Подільський\n",
       "1          5700    (1,)   (33,)   Дніпровський\n",
       "2         13000    (3,)   (67,)   Дніпровський\n",
       "3         36509    (1,)   (45,)     Печерський\n",
       "4          7500    (2,)   (60,)    Оболонський\n",
       "...         ...     ...     ...            ...\n",
       "2371       7500    (2,)   (56,)    Деснянський\n",
       "2372       9500    (2,)   (44,)  Солом'янський\n",
       "2373      16000    (3,)   (67,)    Подільський\n",
       "2374      12000    (2,)   (45,)   Дніпровський\n",
       "2375      38000    (2,)  (118,)     Печерський\n",
       "\n",
       "[2376 rows x 4 columns]"
      ]
     },
     "execution_count": 80,
     "metadata": {},
     "output_type": "execute_result"
    }
   ],
   "source": [
    "pd.DataFrame(dd, columns=[\"Ціна, грн\",\"Кімнати\",\"Площа\",\"Район\"])"
   ]
  },
  {
   "cell_type": "code",
   "execution_count": null,
   "id": "a8b262c1",
   "metadata": {},
   "outputs": [],
   "source": []
  }
 ],
 "metadata": {
  "kernelspec": {
   "display_name": "Python 3 (ipykernel)",
   "language": "python",
   "name": "python3"
  },
  "language_info": {
   "codemirror_mode": {
    "name": "ipython",
    "version": 3
   },
   "file_extension": ".py",
   "mimetype": "text/x-python",
   "name": "python",
   "nbconvert_exporter": "python",
   "pygments_lexer": "ipython3",
   "version": "3.9.13"
  }
 },
 "nbformat": 4,
 "nbformat_minor": 5
}
